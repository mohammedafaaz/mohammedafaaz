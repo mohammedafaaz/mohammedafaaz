{
  "nbformat": 4,
  "nbformat_minor": 0,
  "metadata": {
    "colab": {
      "provenance": [],
      "authorship_tag": "ABX9TyMyC14aozplevxdFYIh2Aah",
      "include_colab_link": true
    },
    "kernelspec": {
      "name": "python3",
      "display_name": "Python 3"
    },
    "language_info": {
      "name": "python"
    }
  },
  "cells": [
    {
      "cell_type": "markdown",
      "metadata": {
        "id": "view-in-github",
        "colab_type": "text"
      },
      "source": [
        "<a href=\"https://colab.research.google.com/github/mohammedafaaz/mohammedafaaz/blob/main/AFAAZ.ipynb\" target=\"_parent\"><img src=\"https://colab.research.google.com/assets/colab-badge.svg\" alt=\"Open In Colab\"/></a>"
      ]
    },
    {
      "cell_type": "code",
      "execution_count": null,
      "metadata": {
        "id": "kBagBAvFjtar",
        "colab": {
          "base_uri": "https://localhost:8080/"
        },
        "outputId": "a57d6e5c-05d5-4e7f-ed56-8a4d6a967729"
      },
      "outputs": [
        {
          "output_type": "stream",
          "name": "stdout",
          "text": [
            "The system of equations is consistent\n",
            "the system of equations has unique solution\n",
            "[[ 7.]\n",
            " [-4.]\n",
            " [-2.]]\n"
          ]
        }
      ],
      "source": [
        "#Examine the consistency of the following system of equations and solve x+2y-z=1,2x+y+4z=2,3x+3y+4z=1\n",
        "\n",
        "import numpy as np\n",
        "\n",
        "A=np.matrix([[1,2,-1],[2,1,4],[3,3,4]])\n",
        "B=np.matrix([[1],[2],[1]])\n",
        "\n",
        "AB=np.concatenate((A,B),axis=1) # Axis of means arrange the matrix in the column form\n",
        "\n",
        "rA=np.linalg.matrix_rank(A)\n",
        "                                # Find the rank of matrices A, AB\n",
        "rAB=np.linalg.matrix_rank(AB)\n",
        "\n",
        "n=A.shape[1]                    # No of Unknowns\n",
        "\n",
        "if(rA==rAB):\n",
        "  print(\"The system of equations is consistent\")\n",
        "\n",
        "  if(rA==n):\n",
        "    print(\"the system of equations has unique solution\")\n",
        "    print(np.linalg.solve(A,B))\n",
        "\n",
        "  else:\n",
        "    print(\"the system of equations has infinitely many solutions\")\n",
        "\n",
        "else:\n",
        "  print(\"the system of equations is inconsistent\")"
      ]
    },
    {
      "cell_type": "code",
      "source": [
        "#Examine the consistency of the following system of equations and solve for 5x+y+3z=20,2x+5y+2z=18,3x+2y+z=14\n",
        "\n",
        "import numpy as np\n",
        "\n",
        "A=np.matrix([[5,1,3],[2,5,2],[3,2,1]])\n",
        "B=np.matrix([[20],[18],[14]])\n",
        "\n",
        "AB=np.concatenate((A,B),axis=1)  # Axis of means arrange the matrix in the column form\n",
        "\n",
        "rA=np.linalg.matrix_rank(A)\n",
        "                                 # Find the rank of matrices A, AB\n",
        "rAB=np.linalg.matrix_rank(AB)\n",
        "\n",
        "n=A.shape[1]                      # No of Unknowns\n",
        "\n",
        "if(rA==rAB):\n",
        "  print(\"the system is consistent\")\n",
        "\n",
        "  if(rA==n):\n",
        "    print(\"the system has unique solution\")\n",
        "    print(np.linalg.solve(A,B))\n",
        "\n",
        "  else:\n",
        "    print(\"the system has infinitely many solutions\")\n",
        "\n",
        "else:\n",
        "  print(\"the system of equations is inconsistent\")\n",
        "\n",
        "\n",
        "\n"
      ],
      "metadata": {
        "colab": {
          "base_uri": "https://localhost:8080/"
        },
        "id": "atgcfTzplWyo",
        "outputId": "6df4bdd5-a3c1-4b2b-e67e-c2574eed4d7c"
      },
      "execution_count": null,
      "outputs": [
        {
          "output_type": "stream",
          "name": "stdout",
          "text": [
            "the system is consistent\n",
            "the system has unique solution\n",
            "[[3.]\n",
            " [2.]\n",
            " [1.]]\n"
          ]
        }
      ]
    },
    {
      "cell_type": "code",
      "source": [
        "#program3(a):solve the system of linear equations by gauss seidel method 5x+2y+z=12,x+4y+2z=15,x+2y+5z=20\n",
        "\n",
        "f1=lambda x,y,z:(12-2*y-z)/5\n",
        "f2=lambda x,y,z:(15-x-2*z)/4\n",
        "f3=lambda x,y,z:(20-x-2*y)/5\n",
        "\n",
        "x0=0\n",
        "y0=0\n",
        "z0=0\n",
        "\n",
        "count=1\n",
        "\n",
        "e=float(input('Enter the tolerable error:'))\n",
        "\n",
        "print('\\ncount\\tx\\ty\\tz\\n')\n",
        "\n",
        "condition=True\n",
        "\n",
        "while condition:\n",
        "\n",
        "  x1=f1(x0,y0,z0)\n",
        "  y1=f2(x1,y0,z0)\n",
        "  z1=f3(x1,y1,z0)\n",
        "\n",
        "  print('%d\\t%0.4f\\t%0.4f\\t%0.4f\\n'%(count,x1,y1,z1))\n",
        "\n",
        "  e1=abs(x0-x1);\n",
        "  e2=abs(y0-y1);\n",
        "  e3=abs(z0-z1);\n",
        "\n",
        "  count+=1\n",
        "\n",
        "  x0=x1\n",
        "  y0=y1\n",
        "  z0=z1\n",
        "\n",
        "  condition=e1>e and e2>e and e3>e\n",
        "\n",
        "print('\\n solution:x=%0.3f,y=%0.3f,z=%0.3f\\n'%(x1,y1,z1))"
      ],
      "metadata": {
        "colab": {
          "base_uri": "https://localhost:8080/"
        },
        "id": "-77twhcTl1Q7",
        "outputId": "dd356a24-5c1b-4156-e303-4776f5ae52a8"
      },
      "execution_count": null,
      "outputs": [
        {
          "output_type": "stream",
          "name": "stdout",
          "text": [
            "Enter the tolerable error:0.01\n",
            "\n",
            "count\tx\ty\tz\n",
            "\n",
            "1\t2.4000\t3.1500\t2.2600\n",
            "\n",
            "2\t0.6880\t2.4480\t2.8832\n",
            "\n",
            "3\t0.8442\t2.0974\t2.9922\n",
            "\n",
            "4\t0.9626\t2.0132\t3.0022\n",
            "\n",
            "\n",
            " solution:x=0.963,y=2.013,z=3.002\n",
            "\n"
          ]
        }
      ]
    },
    {
      "cell_type": "code",
      "source": [
        "#program3(a):solution of system of linear equations by gauss seidel method 20x+y-2z=17,3x+20y-z=-18,2x-3y+20z=25\n",
        "\n",
        "f1=lambda x,y,z:(17-y+2*z)/20\n",
        "f2=lambda x,y,z:(-18-3*x+z)/20\n",
        "f3=lambda x,y,z:(25-2*x+3*y)/20\n",
        "\n",
        "x0=0\n",
        "y0=0\n",
        "z0=0\n",
        "\n",
        "count=1\n",
        "\n",
        "e=float(input('Enter the tolerable error'))\n",
        "\n",
        "print('\\ncount\\tx\\ty\\tz\\n')\n",
        "\n",
        "condition=True\n",
        "\n",
        "while condition:\n",
        "\n",
        "    x1=f1(x0,y0,z0)\n",
        "    y1=f2(x1,y0,z0)\n",
        "    z1=f3(x1,y1,z0)\n",
        "\n",
        "    print('%d\\t%0.4f\\t%0.4f\\t%0.4f\\n'%(count,x1,y1,z1))\n",
        "\n",
        "    e1=abs(x0-x1);\n",
        "    e2=abs(y0-y1);\n",
        "    e3=abs(z0-z1);\n",
        "\n",
        "    count+=1\n",
        "\n",
        "    x0=x1\n",
        "    y0=y1\n",
        "    z0=z1\n",
        "\n",
        "    condition=e1>e and e2>e and e3>e\n",
        "\n",
        "print('\\nsolution:x=%0.3f,y=%0.3f,z=%0.3f\\n'%(x1,y1,z1))"
      ],
      "metadata": {
        "colab": {
          "base_uri": "https://localhost:8080/"
        },
        "id": "VUf1VsTPmRwk",
        "outputId": "5a80e06d-daa6-43c0-d014-31cd8bdffe71"
      },
      "execution_count": null,
      "outputs": [
        {
          "output_type": "stream",
          "name": "stdout",
          "text": [
            "Enter the tolerable error0.01\n",
            "\n",
            "count\tx\ty\tz\n",
            "\n",
            "1\t0.8500\t-1.0275\t1.0109\n",
            "\n",
            "2\t1.0025\t-0.9998\t0.9998\n",
            "\n",
            "3\t1.0000\t-1.0000\t1.0000\n",
            "\n",
            "\n",
            "solution:x=1.000,y=-1.000,z=1.000\n",
            "\n"
          ]
        }
      ]
    }
  ]
}